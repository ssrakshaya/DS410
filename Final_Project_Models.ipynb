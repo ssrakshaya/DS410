{
 "cells": [
  {
   "cell_type": "markdown",
   "id": "654e943d-9179-4e1c-ae94-512dfb4f02b4",
   "metadata": {},
   "source": [
    "## DS 410 Final Project"
   ]
  },
  {
   "cell_type": "markdown",
   "id": "98ba68a7-e26d-48c7-bbb2-f2079a4cf147",
   "metadata": {},
   "source": [
    "Importing libraries, Creating Spark Session, and Reading in the Dataset"
   ]
  },
  {
   "cell_type": "code",
   "execution_count": 1,
   "id": "b8397d72-41f7-44d1-bb7d-0d79f8bb934c",
   "metadata": {},
   "outputs": [
    {
     "name": "stderr",
     "output_type": "stream",
     "text": [
      "/storage/home/msn5265/.local/lib/python3.9/site-packages/pandas/core/computation/expressions.py:21: UserWarning: Pandas requires version '2.8.4' or newer of 'numexpr' (version '2.7.3' currently installed).\n",
      "  from pandas.core.computation.check import NUMEXPR_INSTALLED\n",
      "/storage/home/msn5265/.local/lib/python3.9/site-packages/pandas/core/arrays/masked.py:61: UserWarning: Pandas requires version '1.3.6' or newer of 'bottleneck' (version '1.3.2' currently installed).\n",
      "  from pandas.core import (\n"
     ]
    },
    {
     "data": {
      "text/plain": [
       "True"
      ]
     },
     "execution_count": 1,
     "metadata": {},
     "output_type": "execute_result"
    }
   ],
   "source": [
    "import pyspark\n",
    "from pyspark import SparkContext\n",
    "from pyspark.sql import SparkSession\n",
    "from pyspark.sql.functions import when\n",
    "from pyspark.sql.functions import lower\n",
    "from pyspark.sql.types import StructField, StructType, StringType, LongType, IntegerType, FloatType\n",
    "from pyspark.sql.functions import col, column\n",
    "from pyspark.sql.functions import expr\n",
    "from pyspark.sql.functions import split\n",
    "from pyspark.sql import Row\n",
    "\n",
    "import pandas as pd\n",
    "import matplotlib.pyplot as plt\n",
    "\n",
    "\n",
    "\n",
    "from pyspark.sql.functions import udf, col\n",
    "from pyspark.sql.types import StringType, ArrayType\n",
    "from nltk.stem.porter import PorterStemmer\n",
    "import nltk\n",
    "\n",
    "# Download NLTK data\n",
    "nltk.download('punkt', quiet=True)\n"
   ]
  },
  {
   "cell_type": "code",
   "execution_count": 2,
   "id": "36af5aca-ccf0-44b2-96bb-4a3c81a5a165",
   "metadata": {},
   "outputs": [
    {
     "name": "stderr",
     "output_type": "stream",
     "text": [
      "WARNING: Using incubator modules: jdk.incubator.vector\n",
      "Using Spark's default log4j profile: org/apache/spark/log4j2-defaults.properties\n",
      "Setting default log level to \"WARN\".\n",
      "To adjust logging level use sc.setLogLevel(newLevel). For SparkR, use setLogLevel(newLevel).\n",
      "25/10/28 14:07:55 WARN NativeCodeLoader: Unable to load native-hadoop library for your platform... using builtin-java classes where applicable\n"
     ]
    }
   ],
   "source": [
    "ss=SparkSession.builder.master(\"local\").appName(\"Final_Project\").getOrCreate()"
   ]
  },
  {
   "cell_type": "code",
   "execution_count": 3,
   "id": "586a2bdd-dab3-49a1-92f1-28a11019c27c",
   "metadata": {},
   "outputs": [],
   "source": [
    "ss.sparkContext.setCheckpointDir(\"~/scratch\")"
   ]
  },
  {
   "cell_type": "code",
   "execution_count": 4,
   "id": "edfc3e79-9363-4105-b577-01d72ce11111",
   "metadata": {},
   "outputs": [],
   "source": [
    "schema = StructType([StructField(\"Sentiment\", IntegerType(), nullable = False), \\\n",
    "                     StructField(\"Title\", StringType(), nullable = False), \\\n",
    "                     StructField(\"Text\", StringType(), nullable = False)\n",
    "                    ])"
   ]
  },
  {
   "cell_type": "code",
   "execution_count": 5,
   "id": "1962ae53-8624-4d5c-a2b4-e6943777d4ea",
   "metadata": {},
   "outputs": [],
   "source": [
    "reviews1 = ss.read.csv(\"Amazon_reviews_sample.csv\", schema = schema, header = True, inferSchema = False)"
   ]
  },
  {
   "cell_type": "code",
   "execution_count": 6,
   "id": "cbe63e2d-ff46-4f97-907e-c4016bbcfdbf",
   "metadata": {},
   "outputs": [],
   "source": [
    "reviews = reviews1.na.drop()"
   ]
  },
  {
   "cell_type": "code",
   "execution_count": 7,
   "id": "409ffa99-c0b7-4b0e-88d2-69298296cfcf",
   "metadata": {},
   "outputs": [
    {
     "name": "stdout",
     "output_type": "stream",
     "text": [
      "root\n",
      " |-- Sentiment: integer (nullable = true)\n",
      " |-- Title: string (nullable = true)\n",
      " |-- Text: string (nullable = true)\n",
      "\n"
     ]
    }
   ],
   "source": [
    "reviews.printSchema()"
   ]
  },
  {
   "cell_type": "code",
   "execution_count": 8,
   "id": "d9c26b54-ee74-4fa3-8852-85246d35cf07",
   "metadata": {},
   "outputs": [
    {
     "name": "stdout",
     "output_type": "stream",
     "text": [
      "+---------+--------------------+--------------------+\n",
      "|Sentiment|               Title|                Text|\n",
      "+---------+--------------------+--------------------+\n",
      "|        1|Sorry I wasted my...|Neil Gaiman wrote...|\n",
      "|        1|Loved the prose, ...|Rabbit was not a ...|\n",
      "|        2|         FASCINATING|Am a Jack Higgins...|\n",
      "|        1|Little Annie Fann...|This was very, ve...|\n",
      "|        2|     pressing matter|I have owned Rowe...|\n",
      "+---------+--------------------+--------------------+\n",
      "only showing top 5 rows\n"
     ]
    }
   ],
   "source": [
    "reviews.show(5)"
   ]
  },
  {
   "cell_type": "markdown",
   "id": "84205054-f8fc-4edb-aa8d-cbe9c5f746cf",
   "metadata": {},
   "source": [
    "## EDA"
   ]
  },
  {
   "cell_type": "markdown",
   "id": "05ff84f2-1354-486e-ae34-1ef2d7f0ad0c",
   "metadata": {},
   "source": [
    "## Distribution of Review Sentiment"
   ]
  },
  {
   "cell_type": "code",
   "execution_count": 9,
   "id": "6ad551a1-c48a-4a4a-8098-605e5b9aa1cc",
   "metadata": {},
   "outputs": [
    {
     "data": {
      "image/png": "[encoded data removed]",
      "text/plain": [
       "<Figure size 432x288 with 1 Axes>"
      ]
     },
     "metadata": {
      "needs_background": "light"
     },
     "output_type": "display_data"
    }
   ],
   "source": [
    "reviews_label = reviews.withColumn(\"Labeled Sentiment\", when(reviews[\"Sentiment\"] == 2, \"Positive\").when(reviews[\"Sentiment\"] == 1, \"Negative\"))\n",
    "sentiment_counts = reviews_label.groupBy(\"Labeled Sentiment\").count()\n",
    "pandas_sentiment=sentiment_counts.toPandas()\n",
    "plt.bar(pandas_sentiment[\"Labeled Sentiment\"],pandas_sentiment[\"count\"])\n",
    "plt.title(\"Distribution of Review Sentiment\")\n",
    "plt.xlabel(\"Sentiment\")\n",
    "plt.ylabel(\"Number of Reviews\")\n",
    "plt.show()"
   ]
  },
  {
   "cell_type": "markdown",
   "id": "f0061a3b-4959-4112-919d-2d18ea1105e5",
   "metadata": {},
   "source": [
    "Removing special characters"
   ]
  },
  {
   "cell_type": "code",
   "execution_count": 10,
   "id": "c37ba6d3-4ea3-4c97-b704-069b2bd39416",
   "metadata": {},
   "outputs": [],
   "source": [
    "from pyspark.sql.functions import regexp_replace\n",
    "reviews_special_title = reviews_label.withColumn(\"Title\", regexp_replace(\"Title\", \"[^a-zA-Z0-9\\\\s]\", \"\"))\n",
    "reviews_only_text = reviews_special_title.withColumn(\"Text\", regexp_replace(\"Text\", \"[^a-zA-Z0-9\\\\s]\", \"\"))"
   ]
  },
  {
   "cell_type": "markdown",
   "id": "e1ac0d42-e4be-4ad8-86b1-94cdcdc5a9b6",
   "metadata": {},
   "source": [
    "Making all words lowercase and splitting by space"
   ]
  },
  {
   "cell_type": "code",
   "execution_count": 11,
   "id": "cf6f39f2-294b-4422-9a54-a696b077fe78",
   "metadata": {},
   "outputs": [],
   "source": [
    "reviews_split_title = reviews_label.withColumn(\"Title\", split(lower(reviews_label[\"Title\"]), \" \"))\n",
    "reviews_split_title_text = reviews_split_title.withColumn(\"Text\", split(lower(reviews_split_title[\"Text\"]), \" \"))"
   ]
  },
  {
   "cell_type": "markdown",
   "id": "aaabd1bd-17ee-422d-ba30-f5693af5a258",
   "metadata": {},
   "source": [
    "Removing stop words, making rdd of title of reviews and text of reviews for positive and negative sentiment"
   ]
  },
  {
   "cell_type": "code",
   "execution_count": 12,
   "id": "17a0a3b9-5f16-41bc-b2a6-1683b4a43c07",
   "metadata": {},
   "outputs": [],
   "source": [
    "from pyspark.ml.feature import StopWordsRemover\n",
    "remover = StopWordsRemover(inputCols=[\"Title\", \"Text\"], outputCols=[\"Title (No Stop Words)\", \"Text (No Stop Words)\"])\n",
    "reviews_no_stop_words = remover.transform(reviews_split_title_text)\n",
    "reviews_title_flat_pos = reviews_no_stop_words.filter(reviews_no_stop_words[\"Labeled Sentiment\"] == \"Positive\").select(\"Title (No Stop Words)\").rdd.flatMap(lambda x: x).flatMap(lambda x: x)\n",
    "reviews_text_flat_pos = reviews_no_stop_words.filter(reviews_no_stop_words[\"Labeled Sentiment\"] == \"Positive\").select(\"Text (No Stop Words)\").rdd.flatMap(lambda x: x).flatMap(lambda x: x)\n",
    "reviews_title_flat_neg = reviews_no_stop_words.filter(reviews_no_stop_words[\"Labeled Sentiment\"] == \"Negative\").select(\"Title (No Stop Words)\").rdd.flatMap(lambda x: x).flatMap(lambda x: x)\n",
    "reviews_text_flat_neg = reviews_no_stop_words.filter(reviews_no_stop_words[\"Labeled Sentiment\"] == \"Negative\").select(\"Text (No Stop Words)\").rdd.flatMap(lambda x: x).flatMap(lambda x: x)"
   ]
  },
  {
   "cell_type": "markdown",
   "id": "4f9aafe5-cdc5-4484-b9d6-a7bb30b41f25",
   "metadata": {},
   "source": [
    "Concatenate title and reviews rdd for positive and negative sentiment"
   ]
  },
  {
   "cell_type": "code",
   "execution_count": 13,
   "id": "6ceb37f6-c458-474c-a7d3-719a94db4424",
   "metadata": {},
   "outputs": [],
   "source": [
    "reviews_pos = reviews_title_flat_pos.union(reviews_text_flat_pos)\n",
    "reviews_neg = reviews_title_flat_neg.union(reviews_text_flat_neg)"
   ]
  },
  {
   "cell_type": "markdown",
   "id": "1113cf0d-952f-46bf-8ffa-e5d8f2fa51bb",
   "metadata": {},
   "source": [
    "Map words to key-value pairs ex. (word, 1)"
   ]
  },
  {
   "cell_type": "code",
   "execution_count": 14,
   "id": "4a804a2a-2fd0-4576-98ad-8423271cad31",
   "metadata": {},
   "outputs": [],
   "source": [
    "reviews_pos_key_val = reviews_pos.map(lambda x: (x, 1))\n",
    "reviews_neg_key_val = reviews_neg.map(lambda x: (x, 1))"
   ]
  },
  {
   "cell_type": "markdown",
   "id": "6dc79470-da26-4213-bc17-438c6e2baf27",
   "metadata": {},
   "source": [
    "Reduce key-value pairs by key (aggregate counts of words)"
   ]
  },
  {
   "cell_type": "code",
   "execution_count": 15,
   "id": "29f5cb2e-41a0-4b2a-b64b-9714c5246af3",
   "metadata": {},
   "outputs": [],
   "source": [
    "reviews_pos_key_val_reduced = reviews_pos_key_val.reduceByKey(lambda x, y: x + y, 4)\n",
    "reviews_neg_key_val_reduced = reviews_neg_key_val.reduceByKey(lambda x, y: x + y, 4)"
   ]
  },
  {
   "cell_type": "markdown",
   "id": "a40776cc-1b77-40d7-a59c-84ff5d196442",
   "metadata": {},
   "source": [
    "Sort aggregated counts of words in descending order"
   ]
  },
  {
   "cell_type": "code",
   "execution_count": 16,
   "id": "e6bd205a-6755-4c21-a7d0-eebc7a1dd71c",
   "metadata": {},
   "outputs": [
    {
     "name": "stderr",
     "output_type": "stream",
     "text": [
      "                                                                                \r"
     ]
    }
   ],
   "source": [
    "reviews_pos_key_val_sorted = reviews_pos_key_val_reduced.sortBy(lambda pair: pair[1], ascending=False)\n",
    "reviews_neg_key_val_sorted = reviews_neg_key_val_reduced.sortBy(lambda pair: pair[1], ascending=False)"
   ]
  },
  {
   "cell_type": "markdown",
   "id": "2add36ec-7b9f-4e8d-b234-1b6f48ad4573",
   "metadata": {},
   "source": [
    "Get ten most frequent words for title of reviews and text of reviews"
   ]
  },
  {
   "cell_type": "code",
   "execution_count": 17,
   "id": "803ceed9-da57-4f35-b66d-5cabb7956610",
   "metadata": {},
   "outputs": [],
   "source": [
    "reviews_pos_key_val_sorted_top_ten = reviews_pos_key_val_sorted.take(10)\n",
    "reviews_neg_key_val_sorted_top_ten  = reviews_neg_key_val_sorted.take(10)"
   ]
  },
  {
   "cell_type": "markdown",
   "id": "008a41d4-2346-4615-9393-5584249937d6",
   "metadata": {},
   "source": [
    "## Bar graph of ten most frequent words in positive reviews"
   ]
  },
  {
   "cell_type": "code",
   "execution_count": 18,
   "id": "a05ea4b1-17a9-48a4-b00a-3a3002bc7153",
   "metadata": {},
   "outputs": [
    {
     "data": {
      "image/png": "[encoded data removed]",
      "text/plain": [
       "<Figure size 432x288 with 1 Axes>"
      ]
     },
     "metadata": {
      "needs_background": "light"
     },
     "output_type": "display_data"
    }
   ],
   "source": [
    "plt.bar([item[0] for item in reviews_pos_key_val_sorted_top_ten], [item[1] for item in reviews_pos_key_val_sorted_top_ten])\n",
    "plt.xlabel(\"Word\")\n",
    "plt.ylabel(\"Number of Occurences\")\n",
    "plt.title(\"Top Ten Most Frequently Used Words in Positive Reviews\")\n",
    "plt.tight_layout()\n",
    "plt.show()"
   ]
  },
  {
   "cell_type": "markdown",
   "id": "bd7d5956-cd1e-4a48-af01-1b011b3e53e4",
   "metadata": {},
   "source": [
    "## Bar graph of ten most frequent words in negative reviews"
   ]
  },
  {
   "cell_type": "code",
   "execution_count": 19,
   "id": "e9efffb7-dea6-4862-88dc-5cf81eb17d85",
   "metadata": {},
   "outputs": [
    {
     "data": {
      "image/png": "[encoded data removed]",
      "text/plain": [
       "<Figure size 432x288 with 1 Axes>"
      ]
     },
     "metadata": {
      "needs_background": "light"
     },
     "output_type": "display_data"
    }
   ],
   "source": [
    "plt.bar([item[0] for item in reviews_neg_key_val_sorted_top_ten], [item[1] for item in reviews_neg_key_val_sorted_top_ten])\n",
    "plt.xlabel(\"Word\")\n",
    "plt.ylabel(\"Number of Occurences\")\n",
    "plt.title(\"Top Ten Most Frequently Used Words in Negative Reviews\")\n",
    "plt.tight_layout()\n",
    "plt.show()"
   ]
  },
  {
   "cell_type": "markdown",
   "id": "8f109894-032f-4c39-9464-1c9923427fff",
   "metadata": {},
   "source": [
    "# PreProcessing Data"
   ]
  },
  {
   "cell_type": "markdown",
   "id": "e6be4149-2cb1-49e6-894f-a68ea857e92b",
   "metadata": {},
   "source": [
    "### Add Stemming\n",
    "Stemming reduces words to their root form (e.g., \"running\" -> \"run\", \"playing\" -> \"play\"\n",
    "\n",
    "Remove punctuation from each word and apply Porter Stemmer. (Porter Stemmer is a process of removing suffixes of words in five steps, reducing them to their root form, as degined above!)\n",
    "    \n",
    "Example:\n",
    "- Input:  ['sorry', 'wasted', 'time.', 'book!']\n",
    "- Output: ['sorri', 'wast', 'time', 'book']"
   ]
  },
  {
   "cell_type": "markdown",
   "id": "fa37053a-015e-468a-996a-26b4e9415355",
   "metadata": {},
   "source": [
    "Import Libraries Needed for Stemming"
   ]
  },
  {
   "cell_type": "code",
   "execution_count": 20,
   "id": "a3586fb9-1747-4841-bc49-8644c7b16f86",
   "metadata": {},
   "outputs": [],
   "source": [
    "from pyspark.sql.functions import udf, col\n",
    "from pyspark.sql.types import StringType, ArrayType\n",
    "from nltk.stem.porter import PorterStemmer\n",
    "import nltk\n",
    "import re\n",
    "\n",
    "# Download NLTK data (run once)\n",
    "try:\n",
    "    nltk.download('punkt', quiet=True)\n",
    "    #print(\"✓ NLTK data downloaded\")\n",
    "except:\n",
    "    print(\"NLTK data already available\")\n"
   ]
  },
  {
   "cell_type": "code",
   "execution_count": 21,
   "id": "375f3755-9fe9-46fc-b313-e88d244e914e",
   "metadata": {},
   "outputs": [],
   "source": [
    "def clean_and_stem_words(words):\n",
    "    #Remove punctuation from each word and apply Porter Stemmer\n",
    "    \n",
    "    if words is None:\n",
    "        return []\n",
    "    \n",
    "    stemmer = PorterStemmer()\n",
    "    cleaned_stemmed = []\n",
    "    \n",
    "    for word in words:\n",
    "        # Remove all non-alphabetic characters (punctuation, numbers, symbols)\n",
    "        clean_word = re.sub(r'[^a-zA-Z]', '', word)\n",
    "        \n",
    "        # Only process if something remains after cleaning\n",
    "        if clean_word:\n",
    "            # Apply stemming\n",
    "            stemmed = stemmer.stem(clean_word.lower())\n",
    "            cleaned_stemmed.append(stemmed)\n",
    "    \n",
    "    return cleaned_stemmed\n",
    "\n",
    "#Spark UDF\n",
    "clean_stem_udf = udf(clean_and_stem_words, ArrayType(StringType()))\n",
    "\n",
    "#print(\"✓ Stemming function created (with punctuation removal)!\")\n"
   ]
  },
  {
   "cell_type": "markdown",
   "id": "1e9094e4-3183-4e8a-b1bf-53524abcd837",
   "metadata": {},
   "source": [
    "### Apply stemming function to Reviews given"
   ]
  },
  {
   "cell_type": "code",
   "execution_count": 22,
   "id": "6041d104-02d9-40b7-8ef1-bea0e8a0c0c7",
   "metadata": {
    "tags": []
   },
   "outputs": [],
   "source": [
    "# Columns are named \"Title (No Stop Words)\" and \"Text (No Stop Words)\"\n",
    "# with spaces and parentheses, use backticks to reference columns with spaces\n",
    "# we apply the clean stemming function to these cells \n",
    "\n",
    "# Apply to both columns\n",
    "reviews_stemmed = reviews_no_stop_words.withColumn(\n",
    "    \"Title_Stemmed\",\n",
    "    clean_stem_udf(col(\"`Title (No Stop Words)`\"))\n",
    ").withColumn(\n",
    "    \"Text_Stemmed\",\n",
    "    clean_stem_udf(col(\"`Text (No Stop Words)`\"))\n",
    ")\n",
    "\n",
    "#print(f\"Stemming Total records: {reviews_stemmed.count():,}\")\n",
    "\n",
    "# Show example of the transformation\n",
    "#print(\"\\n\" + \"=\"*70)\n",
    "#print(\"EXAMPLE: Before vs After Cleaning + Stemming\")\n",
    "#print(\"=\"*70)\n",
    "\n",
    "\n",
    "# sample = reviews_stemmed.select(\n",
    "#     \"`Title (No Stop Words)`\", \n",
    "#     \"Title_Stemmed\",\n",
    "#     \"`Text (No Stop Words)`\", \n",
    "#     \"Text_Stemmed\"\n",
    "# ).first()\n",
    "\n",
    "# print(\"\\n📝 TITLE:\")\n",
    "# print(f\"  Before: {sample['Title (No Stop Words)'][:5]}\")\n",
    "# print(f\"  After:  {sample['Title_Stemmed'][:5]}\")\n",
    "\n",
    "# print(\"\\n📝 TEXT:\")\n",
    "# print(f\"  Before: {sample['Text (No Stop Words)'][:5]}\")\n",
    "# print(f\"  After:  {sample['Text_Stemmed'][:5]}\")\n",
    "\n",
    "# print(\"\\n✓ Punctuation removed and words stemmed!\")\n",
    "# print(\"=\"*70)\n"
   ]
  },
  {
   "cell_type": "markdown",
   "id": "de22e25c-5b7b-4c74-b937-279c9623a1ec",
   "metadata": {},
   "source": [
    "### Preparing Data for Hugging Face\n",
    "\n",
    "Formatting to be used by transformers"
   ]
  },
  {
   "cell_type": "code",
   "execution_count": 23,
   "id": "15905206-5e15-4395-aecd-9a11be9b7173",
   "metadata": {},
   "outputs": [],
   "source": [
    "from pyspark.sql.functions import concat_ws, array_join, when\n",
    "\n",
    "# Combine stemmed title + text into one column for transformers that can be used for model output\n",
    "# Create binary labels (0=Negative, 1=Positive) used by Hugging Face. \n",
    "\n",
    "reviews_for_transformers = reviews_stemmed.withColumn(\n",
    "    \"text\",  # Column name expected by Hugging Face\n",
    "    concat_ws(\" \", \n",
    "              array_join(col(\"Title_Stemmed\"), \" \"),\n",
    "              array_join(col(\"Text_Stemmed\"), \" \"))\n",
    ").withColumn(\n",
    "    \"label\",  # Binary label: 0=Negative, 1=Positive\n",
    "    when(col(\"Sentiment\") == 2, 1).otherwise(0)\n",
    ").select(\"text\", \"label\", \"Sentiment\", \"Labeled Sentiment\")\n",
    "\n",
    "#print(\"Data prepared for Hugging Face transformers!\")\n",
    "#print(\"\\n\" + \"=\"*70)\n",
    "#print(\"Sample of Transformer-Ready Data:\")\n",
    "#print(\"=\"*70)\n",
    "#reviews_for_transformers.show(3, truncate=70, vertical=False)\n",
    "\n",
    "#print(\"\\nData format:\")\n",
    "#print(\"  • text:   Combined, cleaned, stemmed review text\")\n",
    "#print(\"  • label:  Binary (0=Negative, 1=Positive)\")\n",
    "#print(\"  • Ready for BERT, RoBERTa, DistilBERT, etc.\")\n"
   ]
  },
  {
   "cell_type": "markdown",
   "id": "caaa64be-cb87-41bf-87e3-a90f8c8d5cb6",
   "metadata": {},
   "source": [
    "## Creating Test Train Split\n",
    "Split data: 60% training, 20% validation, 20% testing\n",
    "- Validation is used for hyperparameter tuning\n",
    "- Test is used for final model evaluation\n",
    "- Use seed for reproducibility"
   ]
  },
  {
   "cell_type": "code",
   "execution_count": 24,
   "id": "daa1aac9-7429-4e0d-99c8-21c00e8a9866",
   "metadata": {},
   "outputs": [
    {
     "name": "stderr",
     "output_type": "stream",
     "text": [
      "[Stage 26:>                                                         (0 + 1) / 1]\r"
     ]
    },
    {
     "name": "stdout",
     "output_type": "stream",
     "text": [
      "Split Complete:\n",
      "  Training:   4,449 (61.5%)\n",
      "  Validation: 1,403 (19.4%)\n",
      "  Test:       1,378 (19.1%)\n"
     ]
    },
    {
     "name": "stderr",
     "output_type": "stream",
     "text": [
      "                                                                                \r"
     ]
    }
   ],
   "source": [
    "# Split data: 60% training, 20% testing, 20% validation\n",
    "# Use seed for reproducibility\n",
    "train_data, valid_data, test_data = reviews_for_transformers.randomSplit([0.6, 0.2, 0.2], seed=42)\n",
    "\n",
    "# Cache all three sets for faster access during modeling\n",
    "train_data.cache()\n",
    "valid_data.cache()\n",
    "test_data.cache()\n",
    "\n",
    "\n",
    "# Count records (forces computation and caching)\n",
    "train_count = train_data.count()\n",
    "valid_count = valid_data.count()\n",
    "test_count = test_data.count()\n",
    "total_count = train_count + valid_count + test_count\n",
    "\n",
    "\n",
    "# print(\"Data split complete!\")\n",
    "# print(\"\\n\" + \"=\"*70)\n",
    "# print(\"Dataset Statistics:\")\n",
    "# print(\"=\"*70)\n",
    "# print(f\"  Training set: {train_count:,} records ({100*train_count/total_count:.1f}%)\")\n",
    "# print(f\"  Test set:     {test_count:,} records ({100*test_count/total_count:.1f}%)\")\n",
    "# print(f\"  Total:        {total_count:,} records\")\n",
    "\n",
    "# # Check label distribution in both sets\n",
    "# print(\"\\n\" + \"=\"*70)\n",
    "# print(\"Label Distribution:\")\n",
    "# print(\"=\"*70)\n",
    "\n",
    "# print(\"\\n📊 Training Set:\")\n",
    "# train_label_dist = train_data.groupBy(\"label\", \"Labeled Sentiment\").count().orderBy(\"label\")\n",
    "# train_label_dist.show()\n",
    "\n",
    "# print(\"📊 Test Set:\")\n",
    "# test_label_dist = test_data.groupBy(\"label\", \"Labeled Sentiment\").count().orderBy(\"label\")\n",
    "# test_label_dist.show()\n",
    "\n",
    "# # Check if balanced\n",
    "# train_labels = train_data.groupBy(\"label\").count().collect()\n",
    "# balance_ratio = min(train_labels[0]['count'], train_labels[1]['count']) / max(train_labels[0]['count'], train_labels[1]['count'])\n",
    "# print(f\"Class balance: {balance_ratio:.2%} ({'Balanced' if balance_ratio > 0.9 else 'Slightly imbalanced'})\")\n",
    "\n",
    "\n",
    "\n",
    "print(f\"Split Complete:\")\n",
    "print(f\"  Training:   {train_count:,} ({train_count/(train_count+valid_count+test_count)*100:.1f}%)\")\n",
    "print(f\"  Validation: {valid_count:,} ({valid_count/(train_count+valid_count+test_count)*100:.1f}%)\")\n",
    "print(f\"  Test:       {test_count:,} ({test_count/(train_count+valid_count+test_count)*100:.1f}%)\")\n"
   ]
  },
  {
   "cell_type": "markdown",
   "id": "fea91788-7c82-436c-b88b-bc1cfead5188",
   "metadata": {},
   "source": [
    "## Saving Preprocessed Data\n",
    "\n",
    "This step saves the cleaned and split datasets (train, validation, test) to disk in Parquet format so they can be reloaded later without rerunning preprocessing. Each dataset is written to its own folder for efficient access during model training.\n",
    "\n",
    "Key points:\n",
    "\n",
    "- Stores final data in /preprocessed_data_sample directory\n",
    "- Uses mode(\"overwrite\") to replace old files\n",
    "- Parquet format = fast, compressed, and Spark-friendly\n",
    "- Makes results reproducible and ready for transformer models"
   ]
  },
  {
   "cell_type": "code",
   "execution_count": 25,
   "id": "1d0fe22c-e4d4-4811-920a-a1d04aa32834",
   "metadata": {},
   "outputs": [
    {
     "name": "stdout",
     "output_type": "stream",
     "text": [
      "Saving data: \n"
     ]
    },
    {
     "name": "stderr",
     "output_type": "stream",
     "text": [
      "                                                                                \r"
     ]
    },
    {
     "name": "stdout",
     "output_type": "stream",
     "text": [
      " Training saved\n",
      " Validation saved\n",
      " Test saved\n",
      "All data saved and memory freed!\n",
      "\n",
      "Modeling team can load with:\n",
      "  spark.read.parquet(\"preprocessed_data_sample/train_transformer_ready\")\n",
      "  spark.read.parquet(\"preprocessed_data_sample/valid_transformer_ready\")\n",
      "  spark.read.parquet(\"preprocessed_data_sample/test_transformer_ready\")\n"
     ]
    }
   ],
   "source": [
    "# Set output path \n",
    "OUTPUT_PATH = \"preprocessed_data_sample\"\n",
    "\n",
    "# print(\"=\"*70)\n",
    "# print(\"Saving Preprocessed Data...\")\n",
    "# print(\"=\"*70)\n",
    "\n",
    "# # Save training data\n",
    "# print(f\"\\nSaving training data...\")\n",
    "# train_data.write.mode(\"overwrite\").parquet(f\"{OUTPUT_PATH}/train_transformer_ready\")\n",
    "# print(f\"   Saved to: {OUTPUT_PATH}/train_transformer_ready/\")\n",
    "\n",
    "# # Save validation data (NEW!)\n",
    "# print(f\"\\nSaving validation data...\")\n",
    "# valid_data.write.mode(\"overwrite\").parquet(f\"{OUTPUT_PATH}/valid_transformer_ready\")\n",
    "# print(f\"   Saved to: {OUTPUT_PATH}/valid_transformer_ready/\")\n",
    "\n",
    "# # Save test data\n",
    "# print(f\"\\nSaving test data...\")\n",
    "# test_data.write.mode(\"overwrite\").parquet(f\"{OUTPUT_PATH}/test_transformer_ready\")\n",
    "# print(f\"   Saved to: {OUTPUT_PATH}/test_transformer_ready/\")\n",
    "\n",
    "# # Save full stemmed dataset (includes all columns for reference)\n",
    "# print(f\"\\nSaving full stemmed dataset...\")\n",
    "# reviews_stemmed.write.mode(\"overwrite\").parquet(f\"{OUTPUT_PATH}/reviews_stemmed\")\n",
    "# print(f\"   Saved to: {OUTPUT_PATH}/reviews_stemmed/\")\n",
    "\n",
    "# print(\"\\n\" + \"=\"*70)\n",
    "# print(\"All data saved successfully!\")\n",
    "# print(\"=\"*70)\n",
    "# print(f\"\\nModeling team can load with:\")\n",
    "# print(f'  train_df = spark.read.parquet(\"{OUTPUT_PATH}/train_transformer_ready\")')\n",
    "# print(f'  valid_df = spark.read.parquet(\"{OUTPUT_PATH}/valid_transformer_ready\")')\n",
    "# print(f'  test_df = spark.read.parquet(\"{OUTPUT_PATH}/test_transformer_ready\")')\n",
    "\n",
    "\n",
    "\n",
    "print(\"Saving data: \")\n",
    "\n",
    "train_data.write.mode(\"overwrite\").parquet(f\"{OUTPUT_PATH}/train_transformer_ready\")\n",
    "print(f\" Training saved\")\n",
    "\n",
    "valid_data.write.mode(\"overwrite\").parquet(f\"{OUTPUT_PATH}/valid_transformer_ready\")\n",
    "print(f\" Validation saved\")\n",
    "\n",
    "test_data.write.mode(\"overwrite\").parquet(f\"{OUTPUT_PATH}/test_transformer_ready\")\n",
    "print(f\" Test saved\")\n",
    "\n",
    "# Free up memory\n",
    "train_data.unpersist()\n",
    "valid_data.unpersist()\n",
    "test_data.unpersist()\n",
    "\n",
    "print(\"All data saved and memory freed!\")\n",
    "print(f\"\\nModeling team can load with:\")\n",
    "print(f'  spark.read.parquet(\"{OUTPUT_PATH}/train_transformer_ready\")')\n",
    "print(f'  spark.read.parquet(\"{OUTPUT_PATH}/valid_transformer_ready\")')\n",
    "print(f'  spark.read.parquet(\"{OUTPUT_PATH}/test_transformer_ready\")')\n",
    "\n"
   ]
  },
  {
   "cell_type": "markdown",
   "id": "8188f6fb-8efc-4250-bbc2-08d110127ead",
   "metadata": {},
   "source": [
    "## Spark imports for SVM"
   ]
  },
  {
   "cell_type": "code",
   "execution_count": 32,
   "id": "868cbb40-5de3-4643-b14d-82165c0798f9",
   "metadata": {},
   "outputs": [],
   "source": [
    "from pyspark.sql import SparkSession\n",
    "from pyspark.sql.functions import col\n",
    "from pyspark.ml import Pipeline\n",
    "from pyspark.ml.feature import Tokenizer, HashingTF, IDF\n",
    "from pyspark.ml.classification import LinearSVC\n",
    "from pyspark.ml.evaluation import MulticlassClassificationEvaluator\n",
    "from pyspark.ml.tuning import CrossValidator, ParamGridBuilder"
   ]
  },
  {
   "cell_type": "markdown",
   "id": "b93f2549-674a-4f7a-ba79-30fed59fe365",
   "metadata": {},
   "source": [
    "## Read in data"
   ]
  },
  {
   "cell_type": "code",
   "execution_count": 33,
   "id": "571d67fd-6a94-483d-860a-d8e810d7246f",
   "metadata": {},
   "outputs": [],
   "source": [
    "train_df = ss.read.parquet(\"preprocessed_data_sample/train_transformer_ready\")\n",
    "valid_df = ss.read.parquet(\"preprocessed_data_sample/valid_transformer_ready\")\n",
    "test_df  = ss.read.parquet(\"preprocessed_data_sample/test_transformer_ready\")"
   ]
  },
  {
   "cell_type": "markdown",
   "id": "7b3e6fb6-da93-4e55-8bc3-646b3e556421",
   "metadata": {},
   "source": [
    "## Tokenizing & tf/idf and casting to doubles"
   ]
  },
  {
   "cell_type": "code",
   "execution_count": 34,
   "id": "18bb001c-ffca-4c01-9c65-53eb944059d2",
   "metadata": {},
   "outputs": [],
   "source": [
    "# Cast label in ALL splits (SVM expects double)\n",
    "train_df = train_df.withColumn(\"label\", col(\"label\").cast(\"double\"))\n",
    "valid_df = valid_df.withColumn(\"label\", col(\"label\").cast(\"double\"))\n",
    "test_df  = test_df.withColumn(\"label\",  col(\"label\").cast(\"double\"))\n",
    "tokenizer = Tokenizer(inputCol=\"text\", outputCol=\"tokens\")\n",
    "tf        = HashingTF(inputCol=\"tokens\", outputCol=\"rawFeatures\", numFeatures=100_000)\n",
    "idf       = IDF(inputCol=\"rawFeatures\", outputCol=\"features\")"
   ]
  },
  {
   "cell_type": "markdown",
   "id": "2a81c769-656b-4e71-85ab-1df49d0183a7",
   "metadata": {},
   "source": [
    "## SVM"
   ]
  },
  {
   "cell_type": "code",
   "execution_count": 36,
   "id": "6325b943-b801-4d17-916e-2131ed4e09f8",
   "metadata": {},
   "outputs": [],
   "source": [
    "svm = LinearSVC(featuresCol=\"features\", labelCol=\"label\", maxIter=100, regParam=0.1)\n",
    "pipeline = Pipeline(stages=[tokenizer, tf, idf, svm])\n",
    "# Ignore warnings it runs fine\n",
    "model = pipeline.fit(train_df)"
   ]
  },
  {
   "cell_type": "markdown",
   "id": "a259de18-7573-41c5-bcf3-959bad9ca227",
   "metadata": {},
   "source": [
    "## Accuracy Metrics"
   ]
  },
  {
   "cell_type": "code",
   "execution_count": 38,
   "id": "3722c71a-d751-4ba1-bd6d-824893976af8",
   "metadata": {},
   "outputs": [
    {
     "name": "stderr",
     "output_type": "stream",
     "text": [
      "25/10/28 14:22:40 WARN DAGScheduler: Broadcasting large task binary with size 2.4 MiB\n",
      "25/10/28 14:22:41 WARN DAGScheduler: Broadcasting large task binary with size 2.4 MiB\n"
     ]
    },
    {
     "name": "stdout",
     "output_type": "stream",
     "text": [
      "Validation — F1: 0.8244929658116956 | Accuracy: 0.8246614397719173\n"
     ]
    },
    {
     "name": "stderr",
     "output_type": "stream",
     "text": [
      "25/10/28 14:22:41 WARN DAGScheduler: Broadcasting large task binary with size 2.4 MiB\n"
     ]
    },
    {
     "name": "stdout",
     "output_type": "stream",
     "text": [
      "Test        — F1: 0.816386931656409 | Accuracy: 0.816400580551524\n"
     ]
    },
    {
     "name": "stderr",
     "output_type": "stream",
     "text": [
      "25/10/28 14:22:41 WARN DAGScheduler: Broadcasting large task binary with size 2.4 MiB\n"
     ]
    }
   ],
   "source": [
    "evaluator_f1  = MulticlassClassificationEvaluator(labelCol=\"label\", predictionCol=\"prediction\", metricName=\"f1\")\n",
    "evaluator_acc = MulticlassClassificationEvaluator(labelCol=\"label\", predictionCol=\"prediction\", metricName=\"accuracy\")\n",
    "\n",
    "valid_pred = model.transform(valid_df)\n",
    "test_pred  = model.transform(test_df)\n",
    "\n",
    "print(\"Validation — F1:\", evaluator_f1.evaluate(valid_pred), \"| Accuracy:\", evaluator_acc.evaluate(valid_pred))\n",
    "print(\"Test        — F1:\", evaluator_f1.evaluate(test_pred),  \"| Accuracy:\", evaluator_acc.evaluate(test_pred))"
   ]
  },
  {
   "cell_type": "markdown",
   "id": "7e21ef48-e508-4a9a-97e4-1bcc55670720",
   "metadata": {},
   "source": [
    "## XGBOOST"
   ]
  },
  {
   "cell_type": "code",
   "execution_count": 63,
   "id": "20793a9b-9341-49c4-9c17-5a734a79a5ec",
   "metadata": {},
   "outputs": [
    {
     "name": "stdout",
     "output_type": "stream",
     "text": [
      "Train rows: 4449\n",
      "Sample vector: Row(features=SparseVector(50000, {1084: 4.663, 2569: 3.8363, 5843: 4.572, 10070: 2.998, 10266: 3.6822, 10393: 1.3342, 12891: 3.8789, 15829: 3.1432, 16175: 4.0569, 16574: 7.7075, 21062: 7.0144, 21810: 7.7075, 22662: 6.0028, 31948: 8.248, 39214: 6.0981, 39369: 7.0144, 41063: 3.9818, 43372: 6.4547, 46204: 7.302}))\n"
     ]
    }
   ],
   "source": [
    "train_df = ss.read.parquet(\"preprocessed_data_sample/train_transformer_ready\")\n",
    "valid_df = ss.read.parquet(\"preprocessed_data_sample/valid_transformer_ready\")\n",
    "test_df  = ss.read.parquet(\"preprocessed_data_sample/test_transformer_ready\")\n",
    "\n",
    "for name in (\"train_df\",\"valid_df\",\"test_df\"):\n",
    "    locals()[name] = locals()[name].withColumn(\"label\", col(\"label\").cast(\"double\"))\n",
    "\n",
    "tokenizer = Tokenizer(inputCol=\"text\", outputCol=\"tokens\")\n",
    "tf  = HashingTF(inputCol=\"tokens\", outputCol=\"rawFeatures\", numFeatures=50_000)  # ↓ from 200k\n",
    "idf = IDF(inputCol=\"rawFeatures\", outputCol=\"features\")\n",
    "\n",
    "featurizer = Pipeline(stages=[tokenizer, tf, idf]).fit(train_df)\n",
    "train_f = featurizer.transform(train_df).select(\"features\", \"label\").repartition(1).cache()\n",
    "valid_f = featurizer.transform(valid_df).select(\"features\", \"label\").repartition(1).cache()\n",
    "test_f  = featurizer.transform(test_df ).select(\"features\", \"label\").repartition(1).cache()\n"
   ]
  },
  {
   "cell_type": "markdown",
   "id": "1800b127-9b6d-4bb5-a2ea-35d4e46c6fee",
   "metadata": {},
   "source": [
    "## XGBOOST Training"
   ]
  },
  {
   "cell_type": "code",
   "execution_count": 60,
   "id": "02cfb978-3fd8-4269-a911-92713617eed0",
   "metadata": {},
   "outputs": [],
   "source": [
    "pos = train_f.filter(col(\"label\") == 1.0).count()\n",
    "neg = train_f.filter(col(\"label\") == 0.0).count()\n",
    "scale_pos_weight = float(neg) / max(float(pos), 1.0)\n",
    "\n",
    "\n",
    "xgb = SparkXGBClassifier(\n",
    "    features_col=\"features\",\n",
    "    label_col=\"label\",\n",
    "    prediction_col=\"prediction\",\n",
    "    probability_col=\"probability\",\n",
    "    raw_prediction_col=\"rawPrediction\",\n",
    "    num_workers=1,              \n",
    "    tree_method=\"hist\",         \n",
    "    eval_metric=\"aucpr\",\n",
    "    num_round=150,\n",
    "    max_depth=6,\n",
    "    eta=0.1,\n",
    "    subsample=0.8,\n",
    "    colsample_bytree=0.8,\n",
    "    reg_lambda=1.0,\n",
    "    reg_alpha=0.0,\n",
    "    scale_pos_weight=scale_pos_weight\n",
    ")\n",
    "xgb_model = xgb.fit(train_f)"
   ]
  },
  {
   "cell_type": "markdown",
   "id": "6e027c5c-4528-4bfb-824e-3a50de74eb34",
   "metadata": {},
   "source": [
    "## XGBoost accuracy metrics"
   ]
  },
  {
   "cell_type": "code",
   "execution_count": 62,
   "id": "85a758c5-f717-4f33-82cb-83e0b8161a2d",
   "metadata": {},
   "outputs": [
    {
     "name": "stderr",
     "output_type": "stream",
     "text": [
      "2025-10-28 14:34:21,335 INFO XGBoost-PySpark: predict_udf Do the inference on the CPUs\n",
      "                                                                                \r"
     ]
    },
    {
     "name": "stdout",
     "output_type": "stream",
     "text": [
      "Validation — AUC-PR: 0.886422232965031 | AUC-ROC: 0.8894759310456969 | F1: 0.7982690896895781 | Acc: 0.7982893799002139\n"
     ]
    },
    {
     "name": "stderr",
     "output_type": "stream",
     "text": [
      "2025-10-28 14:34:24,683 INFO XGBoost-PySpark: predict_udf Do the inference on the CPUs\n",
      "                                                                                \r"
     ]
    },
    {
     "name": "stdout",
     "output_type": "stream",
     "text": [
      "Test        — AUC-PR: 0.9001114522126642 | AUC-ROC: 0.894330261029819 | F1: 0.8017785843324958 | Acc: 0.8018867924528302\n"
     ]
    }
   ],
   "source": [
    "valid_pred = xgb_model.transform(valid_f).cache()\n",
    "test_pred  = xgb_model.transform(test_f).cache()\n",
    "\n",
    "e_aucpr = BinaryClassificationEvaluator(labelCol=\"label\", rawPredictionCol=\"rawPrediction\", metricName=\"areaUnderPR\")\n",
    "e_auc   = BinaryClassificationEvaluator(labelCol=\"label\", rawPredictionCol=\"rawPrediction\", metricName=\"areaUnderROC\")\n",
    "e_f1    = MulticlassClassificationEvaluator(labelCol=\"label\", predictionCol=\"prediction\", metricName=\"f1\")\n",
    "e_acc   = MulticlassClassificationEvaluator(labelCol=\"label\", predictionCol=\"prediction\", metricName=\"accuracy\")\n",
    "\n",
    "print(\"Validation — AUC-PR:\", e_aucpr.evaluate(valid_pred),\n",
    "      \"| AUC-ROC:\", e_auc.evaluate(valid_pred),\n",
    "      \"| F1:\", e_f1.evaluate(valid_pred),\n",
    "      \"| Acc:\", e_acc.evaluate(valid_pred))\n",
    "\n",
    "print(\"Test        — AUC-PR:\", e_aucpr.evaluate(test_pred),\n",
    "      \"| AUC-ROC:\", e_auc.evaluate(test_pred),\n",
    "      \"| F1:\", e_f1.evaluate(test_pred),\n",
    "      \"| Acc:\", e_acc.evaluate(test_pred))"
   ]
  }
 ],
 "metadata": {
  "kernelspec": {
   "display_name": "Python (ds410_f25)",
   "language": "python",
   "name": "ds410_f25"
  },
  "language_info": {
   "codemirror_mode": {
    "name": "ipython",
    "version": 3
   },
   "file_extension": ".py",
   "mimetype": "text/x-python",
   "name": "python",
   "nbconvert_exporter": "python",
   "pygments_lexer": "ipython3",
   "version": "3.9.7"
  }
 },
 "nbformat": 4,
 "nbformat_minor": 5
}
