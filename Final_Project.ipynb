{
 "cells": [
  {
   "cell_type": "markdown",
   "id": "654e943d-9179-4e1c-ae94-512dfb4f02b4",
   "metadata": {},
   "source": [
    "## DS 410 Final Project"
   ]
  },
  {
   "cell_type": "markdown",
   "id": "98ba68a7-e26d-48c7-bbb2-f2079a4cf147",
   "metadata": {},
   "source": [
    "Importing libraries, Creating Spark Session, and Reading in the Dataset"
   ]
  },
  {
   "cell_type": "code",
   "execution_count": 1,
   "id": "b8397d72-41f7-44d1-bb7d-0d79f8bb934c",
   "metadata": {},
   "outputs": [
    {
     "name": "stderr",
     "output_type": "stream",
     "text": [
      "/storage/home/lfm5648/.local/lib/python3.9/site-packages/pandas/core/computation/expressions.py:21: UserWarning: Pandas requires version '2.8.4' or newer of 'numexpr' (version '2.7.3' currently installed).\n",
      "  from pandas.core.computation.check import NUMEXPR_INSTALLED\n",
      "/storage/home/lfm5648/.local/lib/python3.9/site-packages/pandas/core/arrays/masked.py:61: UserWarning: Pandas requires version '1.3.6' or newer of 'bottleneck' (version '1.3.2' currently installed).\n",
      "  from pandas.core import (\n"
     ]
    }
   ],
   "source": [
    "import pyspark\n",
    "from pyspark import SparkContext\n",
    "from pyspark.sql import SparkSession\n",
    "from pyspark.sql.functions import when\n",
    "from pyspark.sql.functions import lower\n",
    "from pyspark.sql.types import StructField, StructType, StringType, LongType, IntegerType, FloatType\n",
    "from pyspark.sql.functions import col, column\n",
    "from pyspark.sql.functions import expr\n",
    "from pyspark.sql.functions import split\n",
    "from pyspark.sql import Row\n",
    "\n",
    "import pandas as pd\n",
    "import matplotlib.pyplot as plt"
   ]
  },
  {
   "cell_type": "code",
   "execution_count": 2,
   "id": "36af5aca-ccf0-44b2-96bb-4a3c81a5a165",
   "metadata": {},
   "outputs": [
    {
     "name": "stderr",
     "output_type": "stream",
     "text": [
      "WARNING: Using incubator modules: jdk.incubator.vector\n",
      "Using Spark's default log4j profile: org/apache/spark/log4j2-defaults.properties\n",
      "Setting default log level to \"WARN\".\n",
      "To adjust logging level use sc.setLogLevel(newLevel). For SparkR, use setLogLevel(newLevel).\n",
      "25/10/16 11:42:46 WARN NativeCodeLoader: Unable to load native-hadoop library for your platform... using builtin-java classes where applicable\n"
     ]
    }
   ],
   "source": [
    "ss=SparkSession.builder.master(\"local\").appName(\"Midterm_Examination\").getOrCreate()"
   ]
  },
  {
   "cell_type": "code",
   "execution_count": 3,
   "id": "586a2bdd-dab3-49a1-92f1-28a11019c27c",
   "metadata": {},
   "outputs": [],
   "source": [
    "ss.sparkContext.setCheckpointDir(\"~/scratch\")"
   ]
  },
  {
   "cell_type": "code",
   "execution_count": 4,
   "id": "edfc3e79-9363-4105-b577-01d72ce11111",
   "metadata": {},
   "outputs": [],
   "source": [
    "schema = StructType([StructField(\"Sentiment\", IntegerType(), nullable = False), \\\n",
    "                     StructField(\"Title\", StringType(), nullable = False), \\\n",
    "                     StructField(\"Text\", StringType(), nullable = False)\n",
    "                    ])"
   ]
  },
  {
   "cell_type": "code",
   "execution_count": 5,
   "id": "1962ae53-8624-4d5c-a2b4-e6943777d4ea",
   "metadata": {},
   "outputs": [],
   "source": [
    "reviews1 = ss.read.csv(\"/storage/work/lfm5648/Final_Project/Amazon_reviews_sample.csv\", schema = schema, header = True, inferSchema = False)"
   ]
  },
  {
   "cell_type": "code",
   "execution_count": 6,
   "id": "cbe63e2d-ff46-4f97-907e-c4016bbcfdbf",
   "metadata": {},
   "outputs": [],
   "source": [
    "reviews = reviews1.na.drop()"
   ]
  },
  {
   "cell_type": "code",
   "execution_count": 7,
   "id": "409ffa99-c0b7-4b0e-88d2-69298296cfcf",
   "metadata": {},
   "outputs": [
    {
     "name": "stdout",
     "output_type": "stream",
     "text": [
      "root\n",
      " |-- Sentiment: integer (nullable = true)\n",
      " |-- Title: string (nullable = true)\n",
      " |-- Text: string (nullable = true)\n",
      "\n"
     ]
    }
   ],
   "source": [
    "reviews.printSchema()"
   ]
  },
  {
   "cell_type": "code",
   "execution_count": 8,
   "id": "d9c26b54-ee74-4fa3-8852-85246d35cf07",
   "metadata": {},
   "outputs": [
    {
     "name": "stdout",
     "output_type": "stream",
     "text": [
      "+---------+--------------------+--------------------+\n",
      "|Sentiment|               Title|                Text|\n",
      "+---------+--------------------+--------------------+\n",
      "|        1|Sorry I wasted my...|Neil Gaiman wrote...|\n",
      "|        1|Loved the prose, ...|Rabbit was not a ...|\n",
      "|        2|         FASCINATING|Am a Jack Higgins...|\n",
      "|        1|Little Annie Fann...|This was very, ve...|\n",
      "|        2|     pressing matter|I have owned Rowe...|\n",
      "+---------+--------------------+--------------------+\n",
      "only showing top 5 rows\n"
     ]
    }
   ],
   "source": [
    "reviews.show(5)"
   ]
  },
  {
   "cell_type": "markdown",
   "id": "84205054-f8fc-4edb-aa8d-cbe9c5f746cf",
   "metadata": {},
   "source": [
    "## EDA"
   ]
  },
  {
   "cell_type": "markdown",
   "id": "05ff84f2-1354-486e-ae34-1ef2d7f0ad0c",
   "metadata": {},
   "source": [
    "## Distribution of Review Sentiment"
   ]
  },
  {
   "cell_type": "code",
   "execution_count": 9,
   "id": "6ad551a1-c48a-4a4a-8098-605e5b9aa1cc",
   "metadata": {},
   "outputs": [
    {
     "name": "stderr",
     "output_type": "stream",
     "text": [
      "                                                                                \r"
     ]
    },
    {
     "data": {
      "image/png": "[encoded data removed]",
      "text/plain": [
       "<Figure size 432x288 with 1 Axes>"
      ]
     },
     "metadata": {
      "needs_background": "light"
     },
     "output_type": "display_data"
    }
   ],
   "source": [
    "reviews_label = reviews.withColumn(\"Labeled Sentiment\", when(reviews[\"Sentiment\"] == 2, \"Positive\").when(reviews[\"Sentiment\"] == 1, \"Negative\"))\n",
    "sentiment_counts = reviews_label.groupBy(\"Labeled Sentiment\").count()\n",
    "pandas_sentiment=sentiment_counts.toPandas()\n",
    "plt.bar(pandas_sentiment[\"Labeled Sentiment\"],pandas_sentiment[\"count\"])\n",
    "plt.title(\"Distribution of Review Sentiment\")\n",
    "plt.xlabel(\"Sentiment\")\n",
    "plt.ylabel(\"Number of Reviews\")\n",
    "plt.show()"
   ]
  },
  {
   "cell_type": "markdown",
   "id": "f0061a3b-4959-4112-919d-2d18ea1105e5",
   "metadata": {},
   "source": [
    "Removing special characters"
   ]
  },
  {
   "cell_type": "code",
   "execution_count": 10,
   "id": "c37ba6d3-4ea3-4c97-b704-069b2bd39416",
   "metadata": {},
   "outputs": [],
   "source": [
    "from pyspark.sql.functions import regexp_replace\n",
    "reviews_special_title = reviews_label.withColumn(\"Title\", regexp_replace(\"Title\", \"[^a-zA-Z0-9\\\\s]\", \"\"))\n",
    "reviews_only_text = reviews_special_title.withColumn(\"Text\", regexp_replace(\"Text\", \"[^a-zA-Z0-9\\\\s]\", \"\"))"
   ]
  },
  {
   "cell_type": "markdown",
   "id": "e1ac0d42-e4be-4ad8-86b1-94cdcdc5a9b6",
   "metadata": {},
   "source": [
    "Making all words lowercase and splitting by space"
   ]
  },
  {
   "cell_type": "code",
   "execution_count": 11,
   "id": "cf6f39f2-294b-4422-9a54-a696b077fe78",
   "metadata": {},
   "outputs": [],
   "source": [
    "reviews_split_title = reviews_label.withColumn(\"Title\", split(lower(reviews_label[\"Title\"]), \" \"))\n",
    "reviews_split_title_text = reviews_split_title.withColumn(\"Text\", split(lower(reviews_split_title[\"Text\"]), \" \"))"
   ]
  },
  {
   "cell_type": "markdown",
   "id": "aaabd1bd-17ee-422d-ba30-f5693af5a258",
   "metadata": {},
   "source": [
    "Removing stop words, making rdd of title of reviews and text of reviews for positive and negative sentiment"
   ]
  },
  {
   "cell_type": "code",
   "execution_count": 12,
   "id": "17a0a3b9-5f16-41bc-b2a6-1683b4a43c07",
   "metadata": {},
   "outputs": [],
   "source": [
    "from pyspark.ml.feature import StopWordsRemover\n",
    "remover = StopWordsRemover(inputCols=[\"Title\", \"Text\"], outputCols=[\"Title (No Stop Words)\", \"Text (No Stop Words)\"])\n",
    "reviews_no_stop_words = remover.transform(reviews_split_title_text)\n",
    "reviews_title_flat_pos = reviews_no_stop_words.filter(reviews_no_stop_words[\"Labeled Sentiment\"] == \"Positive\").select(\"Title (No Stop Words)\").rdd.flatMap(lambda x: x).flatMap(lambda x: x)\n",
    "reviews_text_flat_pos = reviews_no_stop_words.filter(reviews_no_stop_words[\"Labeled Sentiment\"] == \"Positive\").select(\"Text (No Stop Words)\").rdd.flatMap(lambda x: x).flatMap(lambda x: x)\n",
    "reviews_title_flat_neg = reviews_no_stop_words.filter(reviews_no_stop_words[\"Labeled Sentiment\"] == \"Negative\").select(\"Title (No Stop Words)\").rdd.flatMap(lambda x: x).flatMap(lambda x: x)\n",
    "reviews_text_flat_neg = reviews_no_stop_words.filter(reviews_no_stop_words[\"Labeled Sentiment\"] == \"Negative\").select(\"Text (No Stop Words)\").rdd.flatMap(lambda x: x).flatMap(lambda x: x)"
   ]
  },
  {
   "cell_type": "markdown",
   "id": "4f9aafe5-cdc5-4484-b9d6-a7bb30b41f25",
   "metadata": {},
   "source": [
    "Concatenate title and reviews rdd for positive and negative sentiment"
   ]
  },
  {
   "cell_type": "code",
   "execution_count": 13,
   "id": "6ceb37f6-c458-474c-a7d3-719a94db4424",
   "metadata": {},
   "outputs": [],
   "source": [
    "reviews_pos = reviews_title_flat_pos.union(reviews_text_flat_pos)\n",
    "reviews_neg = reviews_title_flat_neg.union(reviews_text_flat_neg)"
   ]
  },
  {
   "cell_type": "markdown",
   "id": "1113cf0d-952f-46bf-8ffa-e5d8f2fa51bb",
   "metadata": {},
   "source": [
    "Map words to key-value pairs ex. (word, 1)"
   ]
  },
  {
   "cell_type": "code",
   "execution_count": 14,
   "id": "4a804a2a-2fd0-4576-98ad-8423271cad31",
   "metadata": {},
   "outputs": [],
   "source": [
    "reviews_pos_key_val = reviews_pos.map(lambda x: (x, 1))\n",
    "reviews_neg_key_val = reviews_neg.map(lambda x: (x, 1))"
   ]
  },
  {
   "cell_type": "markdown",
   "id": "6dc79470-da26-4213-bc17-438c6e2baf27",
   "metadata": {},
   "source": [
    "Reduce key-value pairs by key (aggregate counts of words)"
   ]
  },
  {
   "cell_type": "code",
   "execution_count": 15,
   "id": "29f5cb2e-41a0-4b2a-b64b-9714c5246af3",
   "metadata": {},
   "outputs": [],
   "source": [
    "reviews_pos_key_val_reduced = reviews_pos_key_val.reduceByKey(lambda x, y: x + y, 4)\n",
    "reviews_neg_key_val_reduced = reviews_neg_key_val.reduceByKey(lambda x, y: x + y, 4)"
   ]
  },
  {
   "cell_type": "markdown",
   "id": "a40776cc-1b77-40d7-a59c-84ff5d196442",
   "metadata": {},
   "source": [
    "Sort aggregated counts of words in descending order"
   ]
  },
  {
   "cell_type": "code",
   "execution_count": 16,
   "id": "e6bd205a-6755-4c21-a7d0-eebc7a1dd71c",
   "metadata": {},
   "outputs": [
    {
     "name": "stderr",
     "output_type": "stream",
     "text": [
      "                                                                                \r"
     ]
    }
   ],
   "source": [
    "reviews_pos_key_val_sorted = reviews_pos_key_val_reduced.sortBy(lambda pair: pair[1], ascending=False)\n",
    "reviews_neg_key_val_sorted = reviews_neg_key_val_reduced.sortBy(lambda pair: pair[1], ascending=False)"
   ]
  },
  {
   "cell_type": "markdown",
   "id": "2add36ec-7b9f-4e8d-b234-1b6f48ad4573",
   "metadata": {},
   "source": [
    "Get ten most frequent words for title of reviews and text of reviews"
   ]
  },
  {
   "cell_type": "code",
   "execution_count": 17,
   "id": "803ceed9-da57-4f35-b66d-5cabb7956610",
   "metadata": {},
   "outputs": [
    {
     "name": "stderr",
     "output_type": "stream",
     "text": [
      "                                                                                \r"
     ]
    }
   ],
   "source": [
    "reviews_pos_key_val_sorted_top_ten = reviews_pos_key_val_sorted.take(10)\n",
    "reviews_neg_key_val_sorted_top_ten  = reviews_neg_key_val_sorted.take(10)"
   ]
  },
  {
   "cell_type": "markdown",
   "id": "008a41d4-2346-4615-9393-5584249937d6",
   "metadata": {},
   "source": [
    "## Bar graph of ten most frequent words in positive reviews"
   ]
  },
  {
   "cell_type": "code",
   "execution_count": 18,
   "id": "a05ea4b1-17a9-48a4-b00a-3a3002bc7153",
   "metadata": {},
   "outputs": [
    {
     "data": {
      "image/png": "[encoded data removed]",
      "text/plain": [
       "<Figure size 432x288 with 1 Axes>"
      ]
     },
     "metadata": {
      "needs_background": "light"
     },
     "output_type": "display_data"
    }
   ],
   "source": [
    "plt.bar([item[0] for item in reviews_pos_key_val_sorted_top_ten], [item[1] for item in reviews_pos_key_val_sorted_top_ten])\n",
    "plt.xlabel(\"Word\")\n",
    "plt.ylabel(\"Number of Occurences\")\n",
    "plt.title(\"Top Ten Most Frequently Used Words in Positive Reviews\")\n",
    "plt.tight_layout()\n",
    "plt.show()"
   ]
  },
  {
   "cell_type": "markdown",
   "id": "bd7d5956-cd1e-4a48-af01-1b011b3e53e4",
   "metadata": {},
   "source": [
    "## Bar graph of ten most frequent words in negative reviews"
   ]
  },
  {
   "cell_type": "code",
   "execution_count": 19,
   "id": "e9efffb7-dea6-4862-88dc-5cf81eb17d85",
   "metadata": {},
   "outputs": [
    {
     "data": {
      "image/png": "[encoded data removed]",
      "text/plain": [
       "<Figure size 432x288 with 1 Axes>"
      ]
     },
     "metadata": {
      "needs_background": "light"
     },
     "output_type": "display_data"
    }
   ],
   "source": [
    "plt.bar([item[0] for item in reviews_neg_key_val_sorted_top_ten], [item[1] for item in reviews_neg_key_val_sorted_top_ten])\n",
    "plt.xlabel(\"Word\")\n",
    "plt.ylabel(\"Number of Occurences\")\n",
    "plt.title(\"Top Ten Most Frequently Used Words in Negative Reviews\")\n",
    "plt.tight_layout()\n",
    "plt.show()"
   ]
  }
 ],
 "metadata": {
  "kernelspec": {
   "display_name": "Python (ds410_f25)",
   "language": "python",
   "name": "ds410_f25"
  },
  "language_info": {
   "codemirror_mode": {
    "name": "ipython",
    "version": 3
   },
   "file_extension": ".py",
   "mimetype": "text/x-python",
   "name": "python",
   "nbconvert_exporter": "python",
   "pygments_lexer": "ipython3",
   "version": "3.9.7"
  }
 },
 "nbformat": 4,
 "nbformat_minor": 5
}
